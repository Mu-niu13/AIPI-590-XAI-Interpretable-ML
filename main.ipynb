{
  "cells": [
    {
      "cell_type": "markdown",
      "metadata": {
        "id": "jehWgiVqrux_"
      },
      "source": [
        "# AIPI 590 - XAI | Assignment #1\n",
        "### Interpretable ML\n",
        "### Mu Niu\n",
        "\n",
        "\n",
        "[![Open In Collab](https://colab.research.google.com/assets/colab-badge.svg)](https://colab.research.google.com/github/Mu-niu13/AIPI-590-XAI-Interpretable-ML/blob/main/main.ipynb#scrollTo=jehWgiVqrux_)"
      ]
    },
    {
      "cell_type": "markdown",
      "source": [
        "#### Import Libs"
      ],
      "metadata": {
        "id": "7gURlCsG03RH"
      }
    },
    {
      "cell_type": "code",
      "source": [
        "import os\n",
        "import pandas as pd\n",
        "import numpy as np\n",
        "import matplotlib.pyplot as plt\n",
        "import seaborn as sns\n",
        "import warnings\n",
        "\n",
        "# stats test and model\n",
        "from scipy import stats\n",
        "from scipy.stats import shapiro, jarque_bera, normaltest\n",
        "from statsmodels.stats.diagnostic import het_breuschpagan, het_white\n",
        "from statsmodels.stats.stattools import durbin_watson\n",
        "from statsmodels.stats.outliers_influence import variance_inflation_factor\n",
        "from statsmodels.tsa.stattools import acf, pacf\n",
        "import statsmodels.api as sm\n",
        "from statsmodels.formula.api import ols, logit\n",
        "from pygam import LinearGAM, LogisticGAM, s, f\n",
        "from pygam.terms import TermList\n",
        "\n",
        "# ML\n",
        "from sklearn.model_selection import train_test_split\n",
        "from sklearn.preprocessing import StandardScaler, LabelEncoder\n",
        "from sklearn.linear_model import LinearRegression, LogisticRegression\n",
        "from sklearn.metrics import mean_squared_error, r2_score, accuracy_score, classification_report, roc_auc_score, confusion_matrix\n",
        "from sklearn.preprocessing import StandardScaler"
      ],
      "metadata": {
        "id": "cJkzMeaA0295"
      },
      "execution_count": 25,
      "outputs": []
    },
    {
      "cell_type": "markdown",
      "source": [
        "#### Connect to Github Repo"
      ],
      "metadata": {
        "id": "fCG0I5fsvk6Q"
      }
    },
    {
      "cell_type": "code",
      "execution_count": 5,
      "metadata": {
        "id": "bxVFPbhdruyA",
        "colab": {
          "base_uri": "https://localhost:8080/"
        },
        "outputId": "533b5b8b-235b-4e6d-bfaf-aa0e3515c00f"
      },
      "outputs": [
        {
          "output_type": "stream",
          "name": "stdout",
          "text": [
            "Cloning into 'AIPI-590-XAI-Interpretable-ML'...\n",
            "remote: Enumerating objects: 13, done.\u001b[K\n",
            "remote: Counting objects: 100% (13/13), done.\u001b[K\n",
            "remote: Compressing objects: 100% (13/13), done.\u001b[K\n",
            "remote: Total 13 (delta 3), reused 0 (delta 0), pack-reused 0 (from 0)\u001b[K\n",
            "Receiving objects: 100% (13/13), 166.34 KiB | 2.25 MiB/s, done.\n",
            "Resolving deltas: 100% (3/3), done.\n",
            "[Errno 2] No such file or directory: 'AIPI-590-XAI-Interpretable-ML/templates'\n",
            "/content\n",
            "\u001b[0m\u001b[01;34mAIPI-590-XAI-Interpretable-ML\u001b[0m/  \u001b[01;34msample_data\u001b[0m/\n"
          ]
        }
      ],
      "source": [
        "# Clone GitHub files to colab workspace\n",
        "repo_name = \"AIPI-590-XAI-Interpretable-ML\" # Change to your repo name\n",
        "git_path = 'https://github.com/Mu-niu13/AIPI-590-XAI-Interpretable-ML.git' #Change to your path\n",
        "!git clone \"{git_path}\"\n",
        "\n",
        "# Install dependencies from requirements.txt file\n",
        "#!pip install -r \"{os.path.join(repo_name,'requirements.txt')}\" #Add if using requirements.txt\n",
        "\n",
        "# Change working directory to location of notebook\n",
        "notebook_dir = 'templates'\n",
        "path_to_notebook = os.path.join(repo_name,notebook_dir)\n",
        "%cd \"{path_to_notebook}\"\n",
        "%ls"
      ]
    },
    {
      "cell_type": "markdown",
      "source": [
        "#### Load Data"
      ],
      "metadata": {
        "id": "RS7oW8uE1nRf"
      }
    },
    {
      "cell_type": "code",
      "source": [
        "data = pd.read_csv('AIPI-590-XAI-Interpretable-ML//data.csv')\n",
        "data.head()"
      ],
      "metadata": {
        "colab": {
          "base_uri": "https://localhost:8080/",
          "height": 342
        },
        "id": "PbGA3wIVwF6f",
        "outputId": "8fcef786-bbcb-4e98-c0d0-f923379c423a"
      },
      "execution_count": 6,
      "outputs": [
        {
          "output_type": "execute_result",
          "data": {
            "text/plain": [
              "   customerID  gender  SeniorCitizen Partner Dependents  tenure PhoneService  \\\n",
              "0  7590-VHVEG  Female              0     Yes         No       1           No   \n",
              "1  5575-GNVDE    Male              0      No         No      34          Yes   \n",
              "2  3668-QPYBK    Male              0      No         No       2          Yes   \n",
              "3  7795-CFOCW    Male              0      No         No      45           No   \n",
              "4  9237-HQITU  Female              0      No         No       2          Yes   \n",
              "\n",
              "      MultipleLines InternetService OnlineSecurity  ... DeviceProtection  \\\n",
              "0  No phone service             DSL             No  ...               No   \n",
              "1                No             DSL            Yes  ...              Yes   \n",
              "2                No             DSL            Yes  ...               No   \n",
              "3  No phone service             DSL            Yes  ...              Yes   \n",
              "4                No     Fiber optic             No  ...               No   \n",
              "\n",
              "  TechSupport StreamingTV StreamingMovies        Contract PaperlessBilling  \\\n",
              "0          No          No              No  Month-to-month              Yes   \n",
              "1          No          No              No        One year               No   \n",
              "2          No          No              No  Month-to-month              Yes   \n",
              "3         Yes          No              No        One year               No   \n",
              "4          No          No              No  Month-to-month              Yes   \n",
              "\n",
              "               PaymentMethod MonthlyCharges  TotalCharges Churn  \n",
              "0           Electronic check          29.85         29.85    No  \n",
              "1               Mailed check          56.95        1889.5    No  \n",
              "2               Mailed check          53.85        108.15   Yes  \n",
              "3  Bank transfer (automatic)          42.30       1840.75    No  \n",
              "4           Electronic check          70.70        151.65   Yes  \n",
              "\n",
              "[5 rows x 21 columns]"
            ],
            "text/html": [
              "\n",
              "  <div id=\"df-f4fef0aa-aa63-4811-9cf0-dbb84c5510db\" class=\"colab-df-container\">\n",
              "    <div>\n",
              "<style scoped>\n",
              "    .dataframe tbody tr th:only-of-type {\n",
              "        vertical-align: middle;\n",
              "    }\n",
              "\n",
              "    .dataframe tbody tr th {\n",
              "        vertical-align: top;\n",
              "    }\n",
              "\n",
              "    .dataframe thead th {\n",
              "        text-align: right;\n",
              "    }\n",
              "</style>\n",
              "<table border=\"1\" class=\"dataframe\">\n",
              "  <thead>\n",
              "    <tr style=\"text-align: right;\">\n",
              "      <th></th>\n",
              "      <th>customerID</th>\n",
              "      <th>gender</th>\n",
              "      <th>SeniorCitizen</th>\n",
              "      <th>Partner</th>\n",
              "      <th>Dependents</th>\n",
              "      <th>tenure</th>\n",
              "      <th>PhoneService</th>\n",
              "      <th>MultipleLines</th>\n",
              "      <th>InternetService</th>\n",
              "      <th>OnlineSecurity</th>\n",
              "      <th>...</th>\n",
              "      <th>DeviceProtection</th>\n",
              "      <th>TechSupport</th>\n",
              "      <th>StreamingTV</th>\n",
              "      <th>StreamingMovies</th>\n",
              "      <th>Contract</th>\n",
              "      <th>PaperlessBilling</th>\n",
              "      <th>PaymentMethod</th>\n",
              "      <th>MonthlyCharges</th>\n",
              "      <th>TotalCharges</th>\n",
              "      <th>Churn</th>\n",
              "    </tr>\n",
              "  </thead>\n",
              "  <tbody>\n",
              "    <tr>\n",
              "      <th>0</th>\n",
              "      <td>7590-VHVEG</td>\n",
              "      <td>Female</td>\n",
              "      <td>0</td>\n",
              "      <td>Yes</td>\n",
              "      <td>No</td>\n",
              "      <td>1</td>\n",
              "      <td>No</td>\n",
              "      <td>No phone service</td>\n",
              "      <td>DSL</td>\n",
              "      <td>No</td>\n",
              "      <td>...</td>\n",
              "      <td>No</td>\n",
              "      <td>No</td>\n",
              "      <td>No</td>\n",
              "      <td>No</td>\n",
              "      <td>Month-to-month</td>\n",
              "      <td>Yes</td>\n",
              "      <td>Electronic check</td>\n",
              "      <td>29.85</td>\n",
              "      <td>29.85</td>\n",
              "      <td>No</td>\n",
              "    </tr>\n",
              "    <tr>\n",
              "      <th>1</th>\n",
              "      <td>5575-GNVDE</td>\n",
              "      <td>Male</td>\n",
              "      <td>0</td>\n",
              "      <td>No</td>\n",
              "      <td>No</td>\n",
              "      <td>34</td>\n",
              "      <td>Yes</td>\n",
              "      <td>No</td>\n",
              "      <td>DSL</td>\n",
              "      <td>Yes</td>\n",
              "      <td>...</td>\n",
              "      <td>Yes</td>\n",
              "      <td>No</td>\n",
              "      <td>No</td>\n",
              "      <td>No</td>\n",
              "      <td>One year</td>\n",
              "      <td>No</td>\n",
              "      <td>Mailed check</td>\n",
              "      <td>56.95</td>\n",
              "      <td>1889.5</td>\n",
              "      <td>No</td>\n",
              "    </tr>\n",
              "    <tr>\n",
              "      <th>2</th>\n",
              "      <td>3668-QPYBK</td>\n",
              "      <td>Male</td>\n",
              "      <td>0</td>\n",
              "      <td>No</td>\n",
              "      <td>No</td>\n",
              "      <td>2</td>\n",
              "      <td>Yes</td>\n",
              "      <td>No</td>\n",
              "      <td>DSL</td>\n",
              "      <td>Yes</td>\n",
              "      <td>...</td>\n",
              "      <td>No</td>\n",
              "      <td>No</td>\n",
              "      <td>No</td>\n",
              "      <td>No</td>\n",
              "      <td>Month-to-month</td>\n",
              "      <td>Yes</td>\n",
              "      <td>Mailed check</td>\n",
              "      <td>53.85</td>\n",
              "      <td>108.15</td>\n",
              "      <td>Yes</td>\n",
              "    </tr>\n",
              "    <tr>\n",
              "      <th>3</th>\n",
              "      <td>7795-CFOCW</td>\n",
              "      <td>Male</td>\n",
              "      <td>0</td>\n",
              "      <td>No</td>\n",
              "      <td>No</td>\n",
              "      <td>45</td>\n",
              "      <td>No</td>\n",
              "      <td>No phone service</td>\n",
              "      <td>DSL</td>\n",
              "      <td>Yes</td>\n",
              "      <td>...</td>\n",
              "      <td>Yes</td>\n",
              "      <td>Yes</td>\n",
              "      <td>No</td>\n",
              "      <td>No</td>\n",
              "      <td>One year</td>\n",
              "      <td>No</td>\n",
              "      <td>Bank transfer (automatic)</td>\n",
              "      <td>42.30</td>\n",
              "      <td>1840.75</td>\n",
              "      <td>No</td>\n",
              "    </tr>\n",
              "    <tr>\n",
              "      <th>4</th>\n",
              "      <td>9237-HQITU</td>\n",
              "      <td>Female</td>\n",
              "      <td>0</td>\n",
              "      <td>No</td>\n",
              "      <td>No</td>\n",
              "      <td>2</td>\n",
              "      <td>Yes</td>\n",
              "      <td>No</td>\n",
              "      <td>Fiber optic</td>\n",
              "      <td>No</td>\n",
              "      <td>...</td>\n",
              "      <td>No</td>\n",
              "      <td>No</td>\n",
              "      <td>No</td>\n",
              "      <td>No</td>\n",
              "      <td>Month-to-month</td>\n",
              "      <td>Yes</td>\n",
              "      <td>Electronic check</td>\n",
              "      <td>70.70</td>\n",
              "      <td>151.65</td>\n",
              "      <td>Yes</td>\n",
              "    </tr>\n",
              "  </tbody>\n",
              "</table>\n",
              "<p>5 rows × 21 columns</p>\n",
              "</div>\n",
              "    <div class=\"colab-df-buttons\">\n",
              "\n",
              "  <div class=\"colab-df-container\">\n",
              "    <button class=\"colab-df-convert\" onclick=\"convertToInteractive('df-f4fef0aa-aa63-4811-9cf0-dbb84c5510db')\"\n",
              "            title=\"Convert this dataframe to an interactive table.\"\n",
              "            style=\"display:none;\">\n",
              "\n",
              "  <svg xmlns=\"http://www.w3.org/2000/svg\" height=\"24px\" viewBox=\"0 -960 960 960\">\n",
              "    <path d=\"M120-120v-720h720v720H120Zm60-500h600v-160H180v160Zm220 220h160v-160H400v160Zm0 220h160v-160H400v160ZM180-400h160v-160H180v160Zm440 0h160v-160H620v160ZM180-180h160v-160H180v160Zm440 0h160v-160H620v160Z\"/>\n",
              "  </svg>\n",
              "    </button>\n",
              "\n",
              "  <style>\n",
              "    .colab-df-container {\n",
              "      display:flex;\n",
              "      gap: 12px;\n",
              "    }\n",
              "\n",
              "    .colab-df-convert {\n",
              "      background-color: #E8F0FE;\n",
              "      border: none;\n",
              "      border-radius: 50%;\n",
              "      cursor: pointer;\n",
              "      display: none;\n",
              "      fill: #1967D2;\n",
              "      height: 32px;\n",
              "      padding: 0 0 0 0;\n",
              "      width: 32px;\n",
              "    }\n",
              "\n",
              "    .colab-df-convert:hover {\n",
              "      background-color: #E2EBFA;\n",
              "      box-shadow: 0px 1px 2px rgba(60, 64, 67, 0.3), 0px 1px 3px 1px rgba(60, 64, 67, 0.15);\n",
              "      fill: #174EA6;\n",
              "    }\n",
              "\n",
              "    .colab-df-buttons div {\n",
              "      margin-bottom: 4px;\n",
              "    }\n",
              "\n",
              "    [theme=dark] .colab-df-convert {\n",
              "      background-color: #3B4455;\n",
              "      fill: #D2E3FC;\n",
              "    }\n",
              "\n",
              "    [theme=dark] .colab-df-convert:hover {\n",
              "      background-color: #434B5C;\n",
              "      box-shadow: 0px 1px 3px 1px rgba(0, 0, 0, 0.15);\n",
              "      filter: drop-shadow(0px 1px 2px rgba(0, 0, 0, 0.3));\n",
              "      fill: #FFFFFF;\n",
              "    }\n",
              "  </style>\n",
              "\n",
              "    <script>\n",
              "      const buttonEl =\n",
              "        document.querySelector('#df-f4fef0aa-aa63-4811-9cf0-dbb84c5510db button.colab-df-convert');\n",
              "      buttonEl.style.display =\n",
              "        google.colab.kernel.accessAllowed ? 'block' : 'none';\n",
              "\n",
              "      async function convertToInteractive(key) {\n",
              "        const element = document.querySelector('#df-f4fef0aa-aa63-4811-9cf0-dbb84c5510db');\n",
              "        const dataTable =\n",
              "          await google.colab.kernel.invokeFunction('convertToInteractive',\n",
              "                                                    [key], {});\n",
              "        if (!dataTable) return;\n",
              "\n",
              "        const docLinkHtml = 'Like what you see? Visit the ' +\n",
              "          '<a target=\"_blank\" href=https://colab.research.google.com/notebooks/data_table.ipynb>data table notebook</a>'\n",
              "          + ' to learn more about interactive tables.';\n",
              "        element.innerHTML = '';\n",
              "        dataTable['output_type'] = 'display_data';\n",
              "        await google.colab.output.renderOutput(dataTable, element);\n",
              "        const docLink = document.createElement('div');\n",
              "        docLink.innerHTML = docLinkHtml;\n",
              "        element.appendChild(docLink);\n",
              "      }\n",
              "    </script>\n",
              "  </div>\n",
              "\n",
              "\n",
              "    <div id=\"df-d6b7609c-6bc4-42e8-87d3-afa08d711fd3\">\n",
              "      <button class=\"colab-df-quickchart\" onclick=\"quickchart('df-d6b7609c-6bc4-42e8-87d3-afa08d711fd3')\"\n",
              "                title=\"Suggest charts\"\n",
              "                style=\"display:none;\">\n",
              "\n",
              "<svg xmlns=\"http://www.w3.org/2000/svg\" height=\"24px\"viewBox=\"0 0 24 24\"\n",
              "     width=\"24px\">\n",
              "    <g>\n",
              "        <path d=\"M19 3H5c-1.1 0-2 .9-2 2v14c0 1.1.9 2 2 2h14c1.1 0 2-.9 2-2V5c0-1.1-.9-2-2-2zM9 17H7v-7h2v7zm4 0h-2V7h2v10zm4 0h-2v-4h2v4z\"/>\n",
              "    </g>\n",
              "</svg>\n",
              "      </button>\n",
              "\n",
              "<style>\n",
              "  .colab-df-quickchart {\n",
              "      --bg-color: #E8F0FE;\n",
              "      --fill-color: #1967D2;\n",
              "      --hover-bg-color: #E2EBFA;\n",
              "      --hover-fill-color: #174EA6;\n",
              "      --disabled-fill-color: #AAA;\n",
              "      --disabled-bg-color: #DDD;\n",
              "  }\n",
              "\n",
              "  [theme=dark] .colab-df-quickchart {\n",
              "      --bg-color: #3B4455;\n",
              "      --fill-color: #D2E3FC;\n",
              "      --hover-bg-color: #434B5C;\n",
              "      --hover-fill-color: #FFFFFF;\n",
              "      --disabled-bg-color: #3B4455;\n",
              "      --disabled-fill-color: #666;\n",
              "  }\n",
              "\n",
              "  .colab-df-quickchart {\n",
              "    background-color: var(--bg-color);\n",
              "    border: none;\n",
              "    border-radius: 50%;\n",
              "    cursor: pointer;\n",
              "    display: none;\n",
              "    fill: var(--fill-color);\n",
              "    height: 32px;\n",
              "    padding: 0;\n",
              "    width: 32px;\n",
              "  }\n",
              "\n",
              "  .colab-df-quickchart:hover {\n",
              "    background-color: var(--hover-bg-color);\n",
              "    box-shadow: 0 1px 2px rgba(60, 64, 67, 0.3), 0 1px 3px 1px rgba(60, 64, 67, 0.15);\n",
              "    fill: var(--button-hover-fill-color);\n",
              "  }\n",
              "\n",
              "  .colab-df-quickchart-complete:disabled,\n",
              "  .colab-df-quickchart-complete:disabled:hover {\n",
              "    background-color: var(--disabled-bg-color);\n",
              "    fill: var(--disabled-fill-color);\n",
              "    box-shadow: none;\n",
              "  }\n",
              "\n",
              "  .colab-df-spinner {\n",
              "    border: 2px solid var(--fill-color);\n",
              "    border-color: transparent;\n",
              "    border-bottom-color: var(--fill-color);\n",
              "    animation:\n",
              "      spin 1s steps(1) infinite;\n",
              "  }\n",
              "\n",
              "  @keyframes spin {\n",
              "    0% {\n",
              "      border-color: transparent;\n",
              "      border-bottom-color: var(--fill-color);\n",
              "      border-left-color: var(--fill-color);\n",
              "    }\n",
              "    20% {\n",
              "      border-color: transparent;\n",
              "      border-left-color: var(--fill-color);\n",
              "      border-top-color: var(--fill-color);\n",
              "    }\n",
              "    30% {\n",
              "      border-color: transparent;\n",
              "      border-left-color: var(--fill-color);\n",
              "      border-top-color: var(--fill-color);\n",
              "      border-right-color: var(--fill-color);\n",
              "    }\n",
              "    40% {\n",
              "      border-color: transparent;\n",
              "      border-right-color: var(--fill-color);\n",
              "      border-top-color: var(--fill-color);\n",
              "    }\n",
              "    60% {\n",
              "      border-color: transparent;\n",
              "      border-right-color: var(--fill-color);\n",
              "    }\n",
              "    80% {\n",
              "      border-color: transparent;\n",
              "      border-right-color: var(--fill-color);\n",
              "      border-bottom-color: var(--fill-color);\n",
              "    }\n",
              "    90% {\n",
              "      border-color: transparent;\n",
              "      border-bottom-color: var(--fill-color);\n",
              "    }\n",
              "  }\n",
              "</style>\n",
              "\n",
              "      <script>\n",
              "        async function quickchart(key) {\n",
              "          const quickchartButtonEl =\n",
              "            document.querySelector('#' + key + ' button');\n",
              "          quickchartButtonEl.disabled = true;  // To prevent multiple clicks.\n",
              "          quickchartButtonEl.classList.add('colab-df-spinner');\n",
              "          try {\n",
              "            const charts = await google.colab.kernel.invokeFunction(\n",
              "                'suggestCharts', [key], {});\n",
              "          } catch (error) {\n",
              "            console.error('Error during call to suggestCharts:', error);\n",
              "          }\n",
              "          quickchartButtonEl.classList.remove('colab-df-spinner');\n",
              "          quickchartButtonEl.classList.add('colab-df-quickchart-complete');\n",
              "        }\n",
              "        (() => {\n",
              "          let quickchartButtonEl =\n",
              "            document.querySelector('#df-d6b7609c-6bc4-42e8-87d3-afa08d711fd3 button');\n",
              "          quickchartButtonEl.style.display =\n",
              "            google.colab.kernel.accessAllowed ? 'block' : 'none';\n",
              "        })();\n",
              "      </script>\n",
              "    </div>\n",
              "\n",
              "    </div>\n",
              "  </div>\n"
            ],
            "application/vnd.google.colaboratory.intrinsic+json": {
              "type": "dataframe",
              "variable_name": "data"
            }
          },
          "metadata": {},
          "execution_count": 6
        }
      ]
    },
    {
      "cell_type": "markdown",
      "source": [
        "## 1. Exploratory Data Analysis to Check Assumptions"
      ],
      "metadata": {
        "id": "KA7RmJow1ruh"
      }
    },
    {
      "cell_type": "markdown",
      "source": [
        "#### 1.1 Data Preprocessing"
      ],
      "metadata": {
        "id": "uXu3xfhy3EDw"
      }
    },
    {
      "cell_type": "code",
      "source": [
        "# fill empty string in total charges with median\n",
        "data['TotalCharges'] = pd.to_numeric(data['TotalCharges'], errors='coerce')\n",
        "data['TotalCharges'].fillna(data['TotalCharges'].median(), inplace=True)\n",
        "\n",
        "# convert categorical to numerical\n",
        "categorical_columns = data.select_dtypes(include=['object']).columns.tolist()\n",
        "\n",
        "label_encoders = {}\n",
        "\n",
        "for col in categorical_columns:\n",
        "    if col != 'Churn':\n",
        "        le = LabelEncoder()\n",
        "        data[col] = le.fit_transform(data[col])\n",
        "        label_encoders[col] = le\n",
        "\n",
        "# binary target variable\n",
        "data['Churn_binary'] = (data['Churn'] == 'Yes').astype(int)\n",
        "data['Churn_continuous'] = data['Churn_binary'].astype(float)"
      ],
      "metadata": {
        "colab": {
          "base_uri": "https://localhost:8080/"
        },
        "id": "zoVOkJuT1rUu",
        "outputId": "9d1fdb4c-8c67-4f9d-f4c6-b18d62d8b341"
      },
      "execution_count": 7,
      "outputs": [
        {
          "output_type": "stream",
          "name": "stderr",
          "text": [
            "/tmp/ipython-input-2298709191.py:3: FutureWarning: A value is trying to be set on a copy of a DataFrame or Series through chained assignment using an inplace method.\n",
            "The behavior will change in pandas 3.0. This inplace method will never work because the intermediate object on which we are setting values always behaves as a copy.\n",
            "\n",
            "For example, when doing 'df[col].method(value, inplace=True)', try using 'df.method({col: value}, inplace=True)' or df[col] = df[col].method(value) instead, to perform the operation inplace on the original object.\n",
            "\n",
            "\n",
            "  data['TotalCharges'].fillna(data['TotalCharges'].median(), inplace=True)\n"
          ]
        }
      ]
    },
    {
      "cell_type": "code",
      "source": [
        "numeric_features = ['tenure', 'MonthlyCharges', 'TotalCharges']\n",
        "feature_columns = [col for col in data.columns if col not in ['Churn', 'Churn_binary', 'Churn_continuous', 'customerID']]\n",
        "\n",
        "X = data[feature_columns]\n",
        "y_continuous = data['Churn_continuous']\n",
        "y_binary = data['Churn_binary']\n",
        "\n",
        "# split data\n",
        "X_train, X_test, y_train_cont, y_test_cont = train_test_split(X, y_continuous, test_size=0.2, random_state=42)\n",
        "_, _, y_train_bin, y_test_bin = train_test_split(X, y_binary, test_size=0.2, random_state=42)"
      ],
      "metadata": {
        "id": "7yYhwBEIcheM"
      },
      "execution_count": 8,
      "outputs": []
    },
    {
      "cell_type": "markdown",
      "source": [
        "1.2.1 Linearity"
      ],
      "metadata": {
        "id": "qTBFAVAZcSVF"
      }
    },
    {
      "cell_type": "code",
      "source": [
        "# Fit initial linear model for residual analysis\n",
        "linear_model = LinearRegression()\n",
        "linear_model.fit(X_train, y_train_cont)\n",
        "y_pred_train = linear_model.predict(X_train)\n",
        "residuals = y_train_cont - y_pred_train\n",
        "\n",
        "# Residual plot\n",
        "plt.figure(figsize=(10, 6))\n",
        "plt.scatter(y_pred_train, residuals, alpha=0.5)\n",
        "plt.axhline(y=0, color='r', linestyle='--')\n",
        "plt.xlabel('Predicted Values')\n",
        "plt.ylabel('Residuals')\n",
        "plt.title('Residual Plot')\n",
        "plt.show()"
      ],
      "metadata": {
        "colab": {
          "base_uri": "https://localhost:8080/",
          "height": 564
        },
        "id": "dnJ70YIb2OQP",
        "outputId": "0b38687c-f1c7-4765-9678-b9147b6f1247"
      },
      "execution_count": 9,
      "outputs": [
        {
          "output_type": "display_data",
          "data": {
            "text/plain": [
              "<Figure size 1000x600 with 1 Axes>"
            ],
            "image/png": "[encoded data removed]"
          },
          "metadata": {}
        }
      ]
    },
    {
      "cell_type": "markdown",
      "source": [
        "The residual plot is not ramdom cloud/scattered points so the linearity assumption is violated."
      ],
      "metadata": {
        "id": "UD9XoVV7eHNe"
      }
    },
    {
      "cell_type": "markdown",
      "source": [
        "1.2.2 Independence of Observations"
      ],
      "metadata": {
        "id": "U6SGCFxoeVey"
      }
    },
    {
      "cell_type": "code",
      "source": [
        "dw_statistic = durbin_watson(residuals)\n",
        "print(f\"Durbin-Watson statistic: {dw_statistic:.4f}\")"
      ],
      "metadata": {
        "colab": {
          "base_uri": "https://localhost:8080/"
        },
        "id": "iPlTsIKL3kPU",
        "outputId": "fb184c24-ec7c-495a-b61b-93215128f779"
      },
      "execution_count": 10,
      "outputs": [
        {
          "output_type": "stream",
          "name": "stdout",
          "text": [
            "Durbin-Watson statistic: 1.9990\n"
          ]
        }
      ]
    },
    {
      "cell_type": "markdown",
      "source": [
        "The Durbin-Watson test gives a value of 1.999, which is indicative of no autocorrelation"
      ],
      "metadata": {
        "id": "T52L_FBFerUj"
      }
    },
    {
      "cell_type": "markdown",
      "source": [
        "1.2.3 Homoscedasticity"
      ],
      "metadata": {
        "id": "taqBLjSUey2x"
      }
    },
    {
      "cell_type": "code",
      "source": [
        "X_with_const = sm.add_constant(X_train)\n",
        "bp_test = het_breuschpagan(residuals, X_with_const)\n",
        "bp_statistic, bp_pvalue, bp_fstatistic, bp_f_pvalue = bp_test\n",
        "\n",
        "print(f\"LM statistic: {bp_statistic:.4f}\")\n",
        "print(f\"p-value: {bp_pvalue:.4f}\")"
      ],
      "metadata": {
        "colab": {
          "base_uri": "https://localhost:8080/"
        },
        "id": "1i2vcxCKeyC4",
        "outputId": "c2f9f142-52b0-4374-98a6-df5de5bb2344"
      },
      "execution_count": 11,
      "outputs": [
        {
          "output_type": "stream",
          "name": "stdout",
          "text": [
            "LM statistic: 1124.7716\n",
            "p-value: 0.0000\n"
          ]
        }
      ]
    },
    {
      "cell_type": "markdown",
      "source": [
        "The residual plot we did earlier already indicate violation of homoscedasticity assumption. Here, the Breusch-Pagan test has p value < 0.05, which again suggests heteroscedasticity."
      ],
      "metadata": {
        "id": "Du9GToRae1fJ"
      }
    },
    {
      "cell_type": "markdown",
      "source": [
        "1.2.4 Normality of Residuals"
      ],
      "metadata": {
        "id": "PsOaRLIIe1MD"
      }
    },
    {
      "cell_type": "code",
      "source": [
        "jb_stat, jb_p = jarque_bera(residuals)\n",
        "\n",
        "print(f\"Jarque-Bera Test: {jb_stat:.4f}, p-value: {jb_p:.4f}\")"
      ],
      "metadata": {
        "colab": {
          "base_uri": "https://localhost:8080/"
        },
        "id": "CFVNC4Eje2Ty",
        "outputId": "6275ac52-7bbe-4ed9-985e-576d52d00e62"
      },
      "execution_count": 12,
      "outputs": [
        {
          "output_type": "stream",
          "name": "stdout",
          "text": [
            "Jarque-Bera Test: 352.2300, p-value: 0.0000\n"
          ]
        }
      ]
    },
    {
      "cell_type": "markdown",
      "source": [
        "The Jarque-Bera Test has p value < 0.05, which suggests non-normal residuals."
      ],
      "metadata": {
        "id": "3Fu8Yw1hgOBg"
      }
    },
    {
      "cell_type": "markdown",
      "source": [
        "1.2.5 No Multicollinearity"
      ],
      "metadata": {
        "id": "u8chfeOSgNpJ"
      }
    },
    {
      "cell_type": "code",
      "source": [
        "vif_data = pd.DataFrame()\n",
        "vif_data[\"Feature\"] = X_train.columns\n",
        "vif_data[\"VIF\"] = [variance_inflation_factor(X_train.values, i) for i in range(len(X_train.columns))]\n",
        "\n",
        "print(\"Variance Inflation Factors:\")\n",
        "print(vif_data.sort_values('VIF', ascending=False))\n"
      ],
      "metadata": {
        "colab": {
          "base_uri": "https://localhost:8080/"
        },
        "id": "LWertWuPgNJo",
        "outputId": "115ab8dd-9173-4b9b-85d2-d6700bb9044b"
      },
      "execution_count": 13,
      "outputs": [
        {
          "output_type": "stream",
          "name": "stdout",
          "text": [
            "Variance Inflation Factors:\n",
            "             Feature        VIF\n",
            "17    MonthlyCharges  20.513778\n",
            "5       PhoneService  15.112905\n",
            "4             tenure  14.708985\n",
            "18      TotalCharges  13.799333\n",
            "7    InternetService   4.345274\n",
            "14          Contract   4.161058\n",
            "13   StreamingMovies   3.270139\n",
            "12       StreamingTV   3.239720\n",
            "16     PaymentMethod   3.089833\n",
            "15  PaperlessBilling   2.867544\n",
            "2            Partner   2.826833\n",
            "6      MultipleLines   2.797471\n",
            "10  DeviceProtection   2.635776\n",
            "9       OnlineBackup   2.461293\n",
            "11       TechSupport   2.383184\n",
            "8     OnlineSecurity   2.227453\n",
            "0             gender   1.976463\n",
            "3         Dependents   1.956171\n",
            "1      SeniorCitizen   1.364272\n"
          ]
        }
      ]
    },
    {
      "cell_type": "markdown",
      "source": [
        "The VIF test shows multicollinarity between Monthly Charges, Phone Service, Tenure, and Total Charges."
      ],
      "metadata": {
        "id": "uMBzjeVshzuU"
      }
    },
    {
      "cell_type": "markdown",
      "source": [
        "1.2.6 No Influential Outliers"
      ],
      "metadata": {
        "id": "KOoz4Asdhzlm"
      }
    },
    {
      "cell_type": "code",
      "source": [
        "# Cook's distance calculation\n",
        "linear_model_sm = ols('Churn_continuous ~ ' + ' + '.join(X_train.columns),\n",
        "                     data=pd.concat([X_train, y_train_cont], axis=1)).fit()\n",
        "\n",
        "influence = linear_model_sm.get_influence()\n",
        "cooks_d = influence.cooks_distance[0]\n",
        "\n",
        "# Plot Cook's distance\n",
        "plt.figure(figsize=(12, 4))\n",
        "plt.stem(range(len(cooks_d)), cooks_d, markerfmt=\",\")\n",
        "plt.xlabel('Observation')\n",
        "plt.ylabel(\"Cook's Distance\")\n",
        "plt.title(\"Cook's Distance\")\n",
        "plt.axhline(y=4/len(cooks_d), color='r', linestyle='--', label='Threshold (4/n)')\n",
        "plt.legend()"
      ],
      "metadata": {
        "colab": {
          "base_uri": "https://localhost:8080/",
          "height": 427
        },
        "id": "ajDkdrU9hzFm",
        "outputId": "ebdb7499-20ea-441e-9e51-d0dd25cfb9d0"
      },
      "execution_count": 14,
      "outputs": [
        {
          "output_type": "execute_result",
          "data": {
            "text/plain": [
              "<matplotlib.legend.Legend at 0x7ac050c56cf0>"
            ]
          },
          "metadata": {},
          "execution_count": 14
        },
        {
          "output_type": "display_data",
          "data": {
            "text/plain": [
              "<Figure size 1200x400 with 1 Axes>"
            ],
            "image/png": "[encoded data removed]"
          },
          "metadata": {}
        }
      ]
    },
    {
      "cell_type": "markdown",
      "source": [
        "Many observations have cook's distance greater than the threshold of 4/n, which indicates violation of No Influential Outliers assumption."
      ],
      "metadata": {
        "id": "7GLI1CxSjLj1"
      }
    },
    {
      "cell_type": "markdown",
      "source": [
        "## 2. Linear Regression"
      ],
      "metadata": {
        "id": "HA4wLMoVnqIL"
      }
    },
    {
      "cell_type": "code",
      "source": [
        "# standardize features\n",
        "scaler = StandardScaler()\n",
        "X_train_scaled = scaler.fit_transform(X_train)\n",
        "X_test_scaled = scaler.transform(X_test)\n",
        "\n",
        "# fit\n",
        "lr_model = LinearRegression()\n",
        "lr_model.fit(X_train_scaled, y_train_cont)\n",
        "\n",
        "# pred\n",
        "y_pred_lr_train = lr_model.predict(X_train_scaled)\n",
        "y_pred_lr_test = lr_model.predict(X_test_scaled)\n",
        "\n",
        "# clip predictions to [0, 1] range\n",
        "y_pred_lr_train_clipped = np.clip(y_pred_lr_train, 0, 1)\n",
        "y_pred_lr_test_clipped = np.clip(y_pred_lr_test, 0, 1)\n",
        "\n",
        "# model performance\n",
        "lr_train_r2 = r2_score(y_train_cont, y_pred_lr_train)\n",
        "lr_test_r2 = r2_score(y_test_cont, y_pred_lr_test)\n",
        "\n",
        "print(f\"Training R2: {lr_train_r2:.4f}\")\n",
        "print(f\"Test R2: {lr_test_r2:.4f}\")"
      ],
      "metadata": {
        "colab": {
          "base_uri": "https://localhost:8080/"
        },
        "id": "yecGqsW7jLMm",
        "outputId": "cd246b03-57fb-497f-e807-bde991a031de"
      },
      "execution_count": 15,
      "outputs": [
        {
          "output_type": "stream",
          "name": "stdout",
          "text": [
            "Training R2: 0.2684\n",
            "Test R2: 0.3030\n"
          ]
        }
      ]
    },
    {
      "cell_type": "markdown",
      "source": [
        "The R sqaure told us that the model performance is not ideal for liner regression."
      ],
      "metadata": {
        "id": "sTFgm64F5qX4"
      }
    },
    {
      "cell_type": "code",
      "source": [
        "# create dataframe\n",
        "lr_coefficients = pd.DataFrame({\n",
        "    'Feature': X_train.columns,\n",
        "    'Coefficient': lr_model.coef_,\n",
        "    'Abs_Coefficient': np.abs(lr_model.coef_)\n",
        "}).sort_values('Abs_Coefficient', ascending=False)\n",
        "\n",
        "# visualize coefficients\n",
        "plt.figure(figsize=(12, 8))\n",
        "top_features = lr_coefficients.head(15)\n",
        "colors = ['red' if x < 0 else 'blue' for x in top_features['Coefficient']]\n",
        "plt.barh(range(len(top_features)), top_features['Coefficient'], color=colors)\n",
        "plt.yticks(range(len(top_features)), top_features['Feature'])\n",
        "plt.xlabel('Coefficient Value')\n",
        "plt.title('Linear Regression Coefficients (Top 15 Features)')\n",
        "plt.axvline(x=0, color='black', linestyle='-', alpha=0.3)\n",
        "plt.tight_layout()\n",
        "plt.show()"
      ],
      "metadata": {
        "colab": {
          "base_uri": "https://localhost:8080/",
          "height": 807
        },
        "id": "SnIlqJF25pwR",
        "outputId": "73de0704-b115-4ada-e683-3fa9d4b5176f"
      },
      "execution_count": 16,
      "outputs": [
        {
          "output_type": "display_data",
          "data": {
            "text/plain": [
              "<Figure size 1200x800 with 1 Axes>"
            ],
            "image/png": "[encoded data removed]"
          },
          "metadata": {}
        }
      ]
    },
    {
      "cell_type": "markdown",
      "source": [
        "From the coefficients plot above, we can see that the customer loyalty features, like tenure, total charges, extra services lead to lower churn. High recurring cost, like monthly charges increases churn. Certain service types, including internet service and paperless billing are related to higher churn risk."
      ],
      "metadata": {
        "id": "moQtT-Z56n5_"
      }
    },
    {
      "cell_type": "markdown",
      "source": [
        "## 3. Logistic Regression"
      ],
      "metadata": {
        "id": "Dfv829aT65ot"
      }
    },
    {
      "cell_type": "code",
      "source": [
        "# fit\n",
        "logit_model = LogisticRegression(random_state=590, max_iter=1000)\n",
        "logit_model.fit(X_train_scaled, y_train_bin)\n",
        "\n",
        "# pred\n",
        "y_pred_logit_train = logit_model.predict(X_train_scaled)\n",
        "y_pred_logit_test = logit_model.predict(X_test_scaled)\n",
        "y_pred_logit_train_proba = logit_model.predict_proba(X_train_scaled)[:, 1]\n",
        "y_pred_logit_test_proba = logit_model.predict_proba(X_test_scaled)[:, 1]\n",
        "\n",
        "# model performance\n",
        "logit_train_auc = roc_auc_score(y_train_bin, y_pred_logit_train_proba)\n",
        "logit_test_auc = roc_auc_score(y_test_bin, y_pred_logit_test_proba)\n",
        "\n",
        "\n",
        "print(f\"Training AUC: {logit_train_auc:.4f}\")\n",
        "print(f\"Test AUC: {logit_test_auc:.4f}\")"
      ],
      "metadata": {
        "colab": {
          "base_uri": "https://localhost:8080/"
        },
        "id": "SRAZhPkc64FP",
        "outputId": "e01736a8-373d-4e77-dceb-b67dd7559b29"
      },
      "execution_count": 17,
      "outputs": [
        {
          "output_type": "stream",
          "name": "stdout",
          "text": [
            "Training AUC: 0.8428\n",
            "Test AUC: 0.8614\n"
          ]
        }
      ]
    },
    {
      "cell_type": "markdown",
      "source": [
        "The AUC shows that logistic regression has strong and robust performance on predicitng customer churning."
      ],
      "metadata": {
        "id": "7vaxzp038BrT"
      }
    },
    {
      "cell_type": "code",
      "source": [
        "# create dataframe\n",
        "logit_coefficients = pd.DataFrame({\n",
        "    'Feature': X_train.columns,\n",
        "    'Coefficient': logit_model.coef_[0],\n",
        "    'Odds_Ratio': np.exp(logit_model.coef_[0]),\n",
        "    'Abs_Coefficient': np.abs(logit_model.coef_[0])\n",
        "}).sort_values('Abs_Coefficient', ascending=False)\n",
        "\n",
        "# visualize coefficients\n",
        "plt.figure(figsize=(14, 10))\n",
        "\n",
        "plt.subplot(2, 2, 1)\n",
        "top_features = logit_coefficients.head(15)\n",
        "colors = ['red' if x < 0 else 'blue' for x in top_features['Coefficient']]\n",
        "plt.barh(range(len(top_features)), top_features['Coefficient'], color=colors)\n",
        "plt.yticks(range(len(top_features)), top_features['Feature'])\n",
        "plt.xlabel('Coefficient Value')\n",
        "plt.title('Logistic Regression Coefficients')\n",
        "plt.axvline(x=0, color='black', linestyle='-', alpha=0.3)\n",
        "\n",
        "plt.subplot(2, 2, 2)\n",
        "colors = ['red' if x < 1 else 'blue' for x in top_features['Odds_Ratio']]\n",
        "plt.barh(range(len(top_features)), top_features['Odds_Ratio'], color=colors)\n",
        "plt.yticks(range(len(top_features)), top_features['Feature'])\n",
        "plt.xlabel('Odds Ratio')\n",
        "plt.title('Logistic Regression Odds Ratios')\n",
        "plt.axvline(x=1, color='black', linestyle='-', alpha=0.3)"
      ],
      "metadata": {
        "colab": {
          "base_uri": "https://localhost:8080/",
          "height": 469
        },
        "id": "CnjHOWCf8KPx",
        "outputId": "046da650-b2eb-45c5-bbe2-e9d63212ca8d"
      },
      "execution_count": 18,
      "outputs": [
        {
          "output_type": "execute_result",
          "data": {
            "text/plain": [
              "<matplotlib.lines.Line2D at 0x7ac055375f40>"
            ]
          },
          "metadata": {},
          "execution_count": 18
        },
        {
          "output_type": "display_data",
          "data": {
            "text/plain": [
              "<Figure size 1400x1000 with 2 Axes>"
            ],
            "image/png": "[encoded data removed]"
          },
          "metadata": {}
        }
      ]
    },
    {
      "cell_type": "markdown",
      "source": [
        "The plot above shows that higher monthly charges strongly increase churn risk, while longer tenure and higher total charges greatly reduce it. Features like paperless billing and internet service slightly increase churn, whereas tech support, online security, and phone service lower churn."
      ],
      "metadata": {
        "id": "MPyTG1KHCT60"
      }
    },
    {
      "cell_type": "markdown",
      "source": [
        "## 4. Generalized Additive Model (GAM)"
      ],
      "metadata": {
        "id": "PDowLTH_Dzrv"
      }
    },
    {
      "cell_type": "code",
      "source": [
        "# use original unscaled features\n",
        "continuous_features = ['tenure', 'MonthlyCharges', 'TotalCharges']\n",
        "categorical_features = [col for col in X_train.columns if col not in continuous_features]\n",
        "feature_indices = {col: i for i, col in enumerate(X_train.columns)}\n",
        "\n",
        "# build GAM terms\n",
        "gam_terms = []\n",
        "for i, col in enumerate(X_train.columns):\n",
        "    if col in continuous_features:\n",
        "        gam_terms.append(s(i, n_splines=10))\n",
        "    else:\n",
        "        gam_terms.append(f(i))\n",
        "\n",
        "term_list = TermList(*gam_terms)\n",
        "\n",
        "# fit\n",
        "gam_model = LogisticGAM(terms=term_list, max_iter=100)\n",
        "gam_model.fit(X_train.values, y_train_bin)\n",
        "\n",
        "# pred\n",
        "y_pred_gam_train_proba = gam_model.predict_proba(X_train.values)\n",
        "y_pred_gam_test_proba = gam_model.predict_proba(X_test.values)\n",
        "y_pred_gam_train = (y_pred_gam_train_proba > 0.5).astype(int)\n",
        "y_pred_gam_test = (y_pred_gam_test_proba > 0.5).astype(int)\n",
        "\n",
        "# model performance\n",
        "gam_train_auc = roc_auc_score(y_train_bin, y_pred_gam_train_proba)\n",
        "gam_test_auc = roc_auc_score(y_test_bin, y_pred_gam_test_proba)\n",
        "\n",
        "print(f\"Training AUC: {gam_train_auc:.4f}\")\n",
        "print(f\"Test AUC: {gam_test_auc:.4f}\")"
      ],
      "metadata": {
        "colab": {
          "base_uri": "https://localhost:8080/"
        },
        "id": "OAYe0GPgDils",
        "outputId": "be04c9eb-48bb-4f26-9581-8b11d8081097"
      },
      "execution_count": 26,
      "outputs": [
        {
          "output_type": "stream",
          "name": "stdout",
          "text": [
            "Training AUC: 0.8516\n",
            "Test AUC: 0.8622\n"
          ]
        }
      ]
    },
    {
      "cell_type": "markdown",
      "source": [
        "The AUC shows that GAM has strong and robust performance on predicitng customer churning, and has similar performance as logistic regression."
      ],
      "metadata": {
        "id": "dW4y-GbaGmp6"
      }
    },
    {
      "cell_type": "code",
      "source": [
        "# drop intercept\n",
        "p_values = np.array(gam_model.statistics_['p_values'])[1:]\n",
        "\n",
        "# map term index to feature name\n",
        "feature_names = list(X_train.columns)\n",
        "term_labels = []\n",
        "for i, term in enumerate(gam_model.terms):\n",
        "    if not term.isintercept:\n",
        "        term_labels.append(feature_names[term.feature])\n",
        "\n",
        "# create dataframe\n",
        "importance_df = pd.DataFrame({\n",
        "    'Feature': term_labels,\n",
        "    'P_value': p_values\n",
        "}).sort_values('P_value')\n",
        "\n",
        "# print\n",
        "for _, row in importance_df.head(15).iterrows():\n",
        "    print(f\"{row['Feature']:<25}  p={row['P_value']:.2e}\")\n"
      ],
      "metadata": {
        "colab": {
          "base_uri": "https://localhost:8080/"
        },
        "id": "mk46fSAsE5-z",
        "outputId": "c16e4562-e230-4e1f-a560-1abe1d292ae6"
      },
      "execution_count": 37,
      "outputs": [
        {
          "output_type": "stream",
          "name": "stdout",
          "text": [
            "StreamingMovies            p=2.78e-15\n",
            "Dependents                 p=4.78e-10\n",
            "TotalCharges               p=1.29e-08\n",
            "InternetService            p=2.17e-07\n",
            "DeviceProtection           p=2.01e-05\n",
            "PhoneService               p=7.17e-05\n",
            "Contract                   p=1.53e-04\n",
            "OnlineSecurity             p=6.28e-04\n",
            "PaperlessBilling           p=1.55e-03\n",
            "MultipleLines              p=2.01e-03\n",
            "StreamingTV                p=1.61e-02\n",
            "PaymentMethod              p=2.07e-02\n",
            "OnlineBackup               p=2.65e-02\n",
            "TechSupport                p=4.19e-02\n",
            "gender                     p=1.75e-01\n"
          ]
        }
      ]
    },
    {
      "cell_type": "markdown",
      "source": [
        "The GAM result above shows that streaming movies, dependents, total charges, internet service, and device protection are the most statistically significant predictors of churn."
      ],
      "metadata": {
        "id": "S4LiciTLKwZd"
      }
    },
    {
      "cell_type": "markdown",
      "source": [
        "## 5. Model Comparison"
      ],
      "metadata": {
        "id": "yf1voyo0LERp"
      }
    },
    {
      "cell_type": "markdown",
      "source": [
        "Model predictive performance:\n",
        "- Linear Regression < Logistic Regression ≈ GAM\n",
        "\n",
        "Model interpretability:\n",
        "- GAM < Logistic Regression < Linear Regression\n",
        "\n",
        "Linear regression is simple and fast. Its coefficients are straightforward to interpret. But our dataset violates many assumptions, and it is theoretically inappropriate for binary outcomes.\n",
        "\n",
        "Logistic regression is appropriate for binary classification. It has good balance of performance and interpretability. But it assumes a linear relationship between predictors and log-odds, missing non-linear patterns, sensitivity to outliers, and requiring certain error distribution assumptions.\n",
        "\n",
        "GAM can learn non-linear relationships automatically while being relatively interpretable. It flexibly models both continuous and categorical variables and allows visual inspection of feature effects. However, it is more complex to implement and maintain.\n",
        "\n",
        "Overall, logistic regression is recommended because it provides the best balance of predictive performance and interpretability."
      ],
      "metadata": {
        "id": "25wXtifMLbiE"
      }
    }
  ],
  "metadata": {
    "language_info": {
      "name": "python"
    },
    "colab": {
      "provenance": []
    },
    "kernelspec": {
      "name": "python3",
      "display_name": "Python 3"
    }
  },
  "nbformat": 4,
  "nbformat_minor": 0
}